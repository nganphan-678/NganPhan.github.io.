{
  "nbformat": 4,
  "nbformat_minor": 0,
  "metadata": {
    "colab": {
      "provenance": [],
      "authorship_tag": "ABX9TyPP6eJmYiNTOfIFilbQOtd4",
      "include_colab_link": true
    },
    "kernelspec": {
      "name": "python3",
      "display_name": "Python 3"
    },
    "language_info": {
      "name": "python"
    }
  },
  "cells": [
    {
      "cell_type": "markdown",
      "metadata": {
        "id": "view-in-github",
        "colab_type": "text"
      },
      "source": [
        "<a href=\"https://colab.research.google.com/github/nganphan-678/NganPhan.github.io./blob/main/Untitled1.ipynb\" target=\"_parent\"><img src=\"https://colab.research.google.com/assets/colab-badge.svg\" alt=\"Open In Colab\"/></a>"
      ]
    },
    {
      "cell_type": "code",
      "execution_count": null,
      "metadata": {
        "colab": {
          "base_uri": "https://localhost:8080/"
        },
        "id": "UR2BisqFoBUe",
        "outputId": "7d749167-71a0-4916-e7a2-8d60b3d8222a"
      },
      "outputs": [
        {
          "output_type": "stream",
          "name": "stdout",
          "text": [
            "Whose is happy will make others happy too\n",
            "--Anne Frank\n"
          ]
        }
      ],
      "source": [
        "print(\"Whose is happy will make others happy too\");\n",
        "print(\"--Anne Frank\");"
      ]
    },
    {
      "cell_type": "code",
      "source": [
        "# Nhập dữ liệu\n",
        "a = int(input(\"Moi bạn nhap so a: \"))\n",
        "b = int(input(\"Moi bạn nhap so b: \"))\n",
        "\n",
        "# Xử lý\n",
        "kqCong = a + b\n",
        "kqTru = a - b\n",
        "kqNhan = a * b\n",
        "kqChiaNguyen = a // b\n",
        "kqDu= a % b\n",
        "kqChiaThuc = a / b\n",
        "\n",
        "# Xuất dữ liệu\n",
        "print(\"Cac ket qua tinh toan: \")\n",
        "print(\"%-5d + %5d = %5d\"%(a, b, kqCong))\n",
        "print(\"%-5d - %5d = %5d\"%(a, b, kqTru))\n",
        "print(\"%-5d * %5d = %5d\"%(a, b, kqNhan))\n",
        "print(\"%-5d / %5d = %5d\"%(a, b, kqChiaNguyen))\n",
        "print(\"%-5d / %5d = %5d\"%(a, b, kqDu))\n",
        "print(\"%-5d / %5d = %5.2f\"%(a, b, kqChiaThuc))"
      ],
      "metadata": {
        "colab": {
          "base_uri": "https://localhost:8080/"
        },
        "id": "SdPN6w7Kos7X",
        "outputId": "fed0afe2-d09b-44b5-b303-f08232426a3b"
      },
      "execution_count": 3,
      "outputs": [
        {
          "output_type": "stream",
          "name": "stdout",
          "text": [
            "Moi bạn nhap so a: 4\n",
            "Moi bạn nhap so b: 5\n",
            "Cac ket qua tinh toan: \n",
            "4     +     5 =     9\n",
            "4     -     5 =    -1\n",
            "4     *     5 =    20\n",
            "4     /     5 =     0\n",
            "4     /     5 =     4\n",
            "4     /     5 =  0.80\n"
          ]
        }
      ]
    },
    {
      "cell_type": "code",
      "source": [
        "# Nhập dữ liệu\n",
        "a = float(input(\"Moi ban nhap a: \"))\n",
        "b = float(input(\"Moi ban nhap b: \"))\n",
        "\n",
        "# Xử lý\n",
        "laNhoHon = (a < b)\n",
        "laNhoHonBang = (a<= b)\n",
        "laLonHon = (a > b)\n",
        "laLonHonBang = (a >= b)\n",
        "laBang = (a == b)\n",
        "laKhacNhau = (a != b)\n",
        "\n",
        "# Xuất dữ liệu\n",
        "print(\"Ket qua so sanh hai so thuc %.2f và %.2f:\"%(a, b))\n",
        "print(\"%-8.2f < %8.2f: %8s\"%(a, b, laNhoHon))\n",
        "print(\"%-8.2f <= %8.2f: %8s\"%(a, b, laNhoHonBang))\n",
        "print(\"%-8.2f > %8.2f: %8s\"%(a, b, laLonHon))\n",
        "print(\"%-8.2f >= %8.2f: %8s\"%(a, b, laLonHonBang))\n",
        "print(\"%-8.2f = %8.2f: %8s\"%(a, b, laBang))\n",
        "print(\"%-8.2f != %8.2f: %8s\"%(a, b, laKhacNhau))"
      ],
      "metadata": {
        "colab": {
          "base_uri": "https://localhost:8080/"
        },
        "id": "RcxbDQ57q2K_",
        "outputId": "7db6fcf5-8f5f-454a-8e31-40eb539f96fc"
      },
      "execution_count": null,
      "outputs": [
        {
          "output_type": "stream",
          "name": "stdout",
          "text": [
            "Moi ban nhap a: 2.5\n",
            "Moi ban nhap b: 6.8\n",
            "Ket qua so sanh hai so thuc 2.50 và 6.80:\n",
            "2.50     <     6.80:     True\n",
            "2.50     <=     6.80:     True\n",
            "2.50     >     6.80:    False\n",
            "2.50     >=     6.80:    False\n",
            "2.50     =     6.80:    False\n",
            "2.50     !=     6.80:     True\n"
          ]
        }
      ]
    },
    {
      "cell_type": "code",
      "source": [
        "# Nạp thư viện\n",
        "import math\n",
        "\n",
        "# Nhập dữ liệu\n",
        "x = float (input(\"Moi bạn nhap vao gia tri cua bien so x: \"))\n",
        "\n",
        "# Xử lý\n",
        "fx = x + math.pow(x, 5) / (1 * 2 * 3 * 4 * 5) + \\\n",
        "     math.sqrt(abs(x)) / math.pow(x, 3.0 / 2)\n",
        "\n",
        "# Xuất dữ liệu\n",
        "print(\"Gia tri cua ham so f(%.2f) = %.2f.\"%(x, fx))"
      ],
      "metadata": {
        "colab": {
          "base_uri": "https://localhost:8080/"
        },
        "id": "Q8BSxA8Zsz_9",
        "outputId": "d1711b06-b8ff-427d-e196-72ff5c3cab59"
      },
      "execution_count": null,
      "outputs": [
        {
          "output_type": "stream",
          "name": "stdout",
          "text": [
            "Moi bạn nhap vao gia tri cua bien so x: 2.3\n",
            "Gia tri cua ham so f(2.30) = 3.27.\n"
          ]
        }
      ]
    },
    {
      "cell_type": "code",
      "source": [],
      "metadata": {
        "id": "y-8yxETfyP_Z"
      },
      "execution_count": null,
      "outputs": []
    },
    {
      "cell_type": "code",
      "source": [
        "# Nhập dữ liệu\n",
        "n = int(input(\"Mời bạn nhập số nguyên n (có bốn chữ số): \"))\n",
        "\n",
        "# Xử lý\n",
        "a = n // 1000\n",
        "b = (n // 100) % 10\n",
        "c = (n // 10) % 10\n",
        "d = n % 10\n",
        "tong = a + b + c + d\n",
        "\n",
        "# Xuất dữ liệu\n",
        "print(f\"{n} = {a} + {b} + {c} + {d} = {tong}\")"
      ],
      "metadata": {
        "colab": {
          "base_uri": "https://localhost:8080/"
        },
        "id": "5dmGieuovDU8",
        "outputId": "1fe71225-74db-49e6-fdca-4708d596e49a"
      },
      "execution_count": null,
      "outputs": [
        {
          "output_type": "stream",
          "name": "stdout",
          "text": [
            "Mời bạn nhập số nguyên n (có bốn chữ số): 1234\n",
            "1234 = 1 + 2 + 3 + 4 = 10\n"
          ]
        }
      ]
    },
    {
      "cell_type": "markdown",
      "source": [
        "# Bài thực hành 1"
      ],
      "metadata": {
        "id": "ZahzrVqvypFN"
      }
    },
    {
      "cell_type": "code",
      "source": [
        "print(\"Truong: Dai Hoc UEH\");\n",
        "print(\"Khoa: CNTT\");\n",
        "print(\"Ho Ten: Phan Thao Ngan\");"
      ],
      "metadata": {
        "colab": {
          "base_uri": "https://localhost:8080/"
        },
        "id": "rIH69RBXyx31",
        "outputId": "34ba31ab-2491-48bb-fe7d-3aed25fb30c8"
      },
      "execution_count": null,
      "outputs": [
        {
          "output_type": "stream",
          "name": "stdout",
          "text": [
            "Truong: Dai Hoc UEH\n",
            "Khoa: CNTT\n",
            "Ho Ten: Phan Thao Ngan\n"
          ]
        }
      ]
    },
    {
      "cell_type": "markdown",
      "source": [
        "# Bài thực hành 2"
      ],
      "metadata": {
        "id": "ZbHyJNbNzArY"
      }
    },
    {
      "cell_type": "code",
      "source": [
        "# Nhập dữ liệu\n",
        "R = float(input(\"Nhập bán kính R: \"))\n",
        "\n",
        "# Xử lý\n",
        "S = 3.14 * math.pow(R, 2)\n",
        "P = 2 * 3.14 * R\n",
        "\n",
        "# Xuất dữ liệu\n",
        "print(f\"Diện tích S = {S:.1f}\")\n",
        "print(f\"Chu vi P = {P:.1f}\")"
      ],
      "metadata": {
        "colab": {
          "base_uri": "https://localhost:8080/"
        },
        "id": "64pRC5_ezEV4",
        "outputId": "d2592053-f718-44df-accb-f47dc905d76c"
      },
      "execution_count": null,
      "outputs": [
        {
          "output_type": "stream",
          "name": "stdout",
          "text": [
            "Nhập bán kính R: 5\n",
            "Diện tích S = 78.5\n",
            "Chu vi P = 31.4\n"
          ]
        }
      ]
    },
    {
      "cell_type": "markdown",
      "source": [
        "# **Bài thục hành 3**"
      ],
      "metadata": {
        "id": "FFHuFjQk1K3O"
      }
    },
    {
      "cell_type": "code",
      "source": [
        "# Nhập dữ liệu\n",
        "h = int(input(\"Nhập số giờ: \"))\n",
        "m = int(input(\"Nhập số phút: \"))\n",
        "s = int(input(\"Nhập số giây: \"))\n",
        "\n",
        "# Xử lý\n",
        "tong_giay = h * 3600 + m * 60 + s\n",
        "\n",
        "# Xuất dữ liệu\n",
        "print(f\"Tổng số giây của {h}:{m}:{s} là {tong_giay} giây\")\n"
      ],
      "metadata": {
        "colab": {
          "base_uri": "https://localhost:8080/"
        },
        "id": "_hJz7EwB1UpV",
        "outputId": "0e6c49b6-9b8e-4cd0-d4b5-85c9fb09c3c8"
      },
      "execution_count": null,
      "outputs": [
        {
          "output_type": "stream",
          "name": "stdout",
          "text": [
            "Nhập số giờ: 1\n",
            "Nhập số phút: 20\n",
            "Nhập số giây: 10\n",
            "Tổng số giây của 1:20:10 là 4810 giây\n"
          ]
        }
      ]
    },
    {
      "cell_type": "code",
      "source": [],
      "metadata": {
        "id": "APDzr5MP1Pjd"
      },
      "execution_count": null,
      "outputs": []
    },
    {
      "cell_type": "markdown",
      "source": [
        "# Bài thực hành 4"
      ],
      "metadata": {
        "id": "jQ8QnUql3EqL"
      }
    },
    {
      "cell_type": "code",
      "source": [
        "# Nhập dữ liệu\n",
        "t = int(input(\"Nhập vào tổng số giây: \"))\n",
        "\n",
        "# Xử lý\n",
        "so_gio = t // 3600\n",
        "so_phut = (t % 3600) // 60\n",
        "so_giay = t % 60\n",
        "\n",
        "# Xuất dữ liệu\n",
        "print(f\"{t} giây có dạng {so_gio}:{so_phut}:{so_giay}\")"
      ],
      "metadata": {
        "colab": {
          "base_uri": "https://localhost:8080/"
        },
        "id": "jQzSW3V83Hfg",
        "outputId": "cd4a5d12-0fcb-485e-f1cc-31d3a6ffcbba"
      },
      "execution_count": null,
      "outputs": [
        {
          "output_type": "stream",
          "name": "stdout",
          "text": [
            "Nhập vào tổng số giây: 4810\n",
            "4810 giây có dạng 1:20:10\n"
          ]
        }
      ]
    },
    {
      "cell_type": "markdown",
      "source": [
        "## **Bài thực hành 5**"
      ],
      "metadata": {
        "id": "xtjisEe34zQR"
      }
    },
    {
      "cell_type": "code",
      "source": [
        "# Nạp thư viện\n",
        "import math\n",
        "\n",
        "# Nhập dữ liệu\n",
        "a = float(input(\"Nhập độ dài canh a: \"))\n",
        "b = float(input(\"Nhập độ dài cạnh b: \"))\n",
        "c = float(input(\"Nhập độ dài cạnh c: \"))\n",
        "\n",
        "# Xử lý\n",
        "p = (a + b + c) / 2\n",
        "S= math.sqrt(p * (p - a) * (p - b) * (p - c))\n",
        "\n",
        "# Xuất dữ liệu\n",
        "print(f\"Diện tích tam giác S = {S:.2f}\")"
      ],
      "metadata": {
        "colab": {
          "base_uri": "https://localhost:8080/"
        },
        "id": "6W3M8nA_41wI",
        "outputId": "6a417f9b-34e7-41ff-fadc-2854cb22f1a7"
      },
      "execution_count": null,
      "outputs": [
        {
          "output_type": "stream",
          "name": "stdout",
          "text": [
            "Nhập độ dài canh a: 2\n",
            "Nhập độ dài cạnh b: 4\n",
            "Nhập độ dài cạnh c: 3\n",
            "Diện tích tam giác S = 2.90\n"
          ]
        }
      ]
    },
    {
      "cell_type": "markdown",
      "source": [
        "# **Bài thực hành 6**"
      ],
      "metadata": {
        "id": "5d0-Ip9E7OIi"
      }
    },
    {
      "cell_type": "code",
      "source": [
        "# Nhập dữ liệu\n",
        "a = float(input(\"Nhập số thực a: \"));\n",
        "n = int(input(\"Nhập số mũ n: \"));\n",
        "\n",
        "# Xử lý\n",
        "ket_qua = a ** n\n",
        "\n",
        "#Xuất dữ liệu\n",
        "print(f\"Kết quả {a}^{n} = {ket_qua}\")"
      ],
      "metadata": {
        "colab": {
          "base_uri": "https://localhost:8080/"
        },
        "id": "4spWWMoC7Q1N",
        "outputId": "ff1024c2-9fce-4acb-de7e-d9fa7da444ba"
      },
      "execution_count": null,
      "outputs": [
        {
          "output_type": "stream",
          "name": "stdout",
          "text": [
            "Nhập số thực a: 2\n",
            "Nhập số mũ n: 4\n",
            "Kết quả 2.0^4 = 16.0\n"
          ]
        }
      ]
    },
    {
      "cell_type": "markdown",
      "source": [
        "# **Bài thực hành 7**"
      ],
      "metadata": {
        "id": "F8EAmW-19mJs"
      }
    },
    {
      "cell_type": "code",
      "source": [
        "# Nhập dữ liệu\n",
        "x = int(input(\"Nhập số nguyên 4 chữ số: \"))\n",
        "\n",
        "# Xử lý\n",
        "y = int(str(x)[::-1])\n",
        "\n",
        "# Xuất dữ liệu\n",
        "print(f\"Số đảo ngược của {x} là: {y}\")\n"
      ],
      "metadata": {
        "colab": {
          "base_uri": "https://localhost:8080/"
        },
        "id": "WCn18U9p9q0D",
        "outputId": "76f59f43-e176-46b8-bf93-baed1ebb66fe"
      },
      "execution_count": null,
      "outputs": [
        {
          "output_type": "stream",
          "name": "stdout",
          "text": [
            "Nhập số nguyên 4 chữ số: 1234\n",
            "Số đảo ngược của 1234 là: 4321\n"
          ]
        }
      ]
    },
    {
      "cell_type": "markdown",
      "source": [
        "## **Bài thực hành 8**"
      ],
      "metadata": {
        "id": "0lAHBoGd_Yb1"
      }
    },
    {
      "cell_type": "code",
      "source": [
        "# Nạp thư viện\n",
        "import math\n",
        "\n",
        "# Nhập dữ liệu\n",
        "degree = float(input(\"Nhập góc (độ): \"))\n",
        "\n",
        "# Xử lý dữ liệu\n",
        "radian = degree * math.pi / 180\n",
        "\n",
        "# Xuất dữ liệu\n",
        "print(f\"Góc {degree} = {radian} radian\")"
      ],
      "metadata": {
        "colab": {
          "base_uri": "https://localhost:8080/"
        },
        "id": "nx2iNG3s_bMn",
        "outputId": "c767cc63-6a0e-41e6-ac3d-a7d5d543f10f"
      },
      "execution_count": null,
      "outputs": [
        {
          "output_type": "stream",
          "name": "stdout",
          "text": [
            "Nhập góc (độ): 45\n",
            "Góc 45.0 = 0.7853981633974483 radian\n"
          ]
        }
      ]
    },
    {
      "cell_type": "markdown",
      "source": [
        "# **Bài thực hành 9**"
      ],
      "metadata": {
        "id": "3t2pgpOnADm1"
      }
    },
    {
      "cell_type": "code",
      "source": [
        "# Nạp thư viện\n",
        "import math\n",
        "\n",
        "# Nhập dữ liệu\n",
        "x = float(input(\"Nhập số thực x: \"))\n",
        "\n",
        "# Xử lý dữ liệu\n",
        "y1 = 4 * (x**2 + 10*x*math.sqrt(x) + 3*x + 1)\n",
        "y2= (-math.sin(math.pi * x**2) * math.sqrt(x**2 +1)) / (math.e**(2*x) * math.cos((math.pi/4)*x))\n",
        "\n",
        "# Xuất dữ liệu\n",
        "print(f\"y1 = {y1:.2f}\")\n",
        "print(f\"y2 = {y2:.2f}\")"
      ],
      "metadata": {
        "colab": {
          "base_uri": "https://localhost:8080/"
        },
        "id": "IGOArCWMAGC-",
        "outputId": "8216ec72-c108-45aa-b983-ecea2fca30c5"
      },
      "execution_count": null,
      "outputs": [
        {
          "output_type": "stream",
          "name": "stdout",
          "text": [
            "Nhập số thực x: 3\n",
            "y1 = 283.85\n",
            "y2 = 0.00\n"
          ]
        }
      ]
    },
    {
      "cell_type": "markdown",
      "source": [
        "# **Bài thực hành 10**"
      ],
      "metadata": {
        "id": "4HR4_Vp6BYl-"
      }
    },
    {
      "cell_type": "code",
      "source": [
        "# Nạp thư viện\n",
        "import math\n",
        "\n",
        "# Nhập dữ liệu\n",
        "x1, y1 = map(float, input(\"Nhập tọa độ A (x1, y1): \").split())\n",
        "x2, y2 = map(float, input(\"Nhập tọa độ B (x2, y2): \").split())\n",
        "d = math.sqrt((x2 - x1)**2 + (y2 - y1)**2)\n",
        "\n",
        "# Xuất dữ liệu\n",
        "print(f\"Khoảng cách giữa A({x1}, {y1}) và B({x2}, {y2}) là: {d:.2f}\")"
      ],
      "metadata": {
        "colab": {
          "base_uri": "https://localhost:8080/"
        },
        "id": "_BQhx7Y4Ba-p",
        "outputId": "075d250d-3734-4c2b-98a7-c6529a1e1d1c"
      },
      "execution_count": null,
      "outputs": [
        {
          "output_type": "stream",
          "name": "stdout",
          "text": [
            "Nhập tọa độ A (x1, y1): 4 8 \n",
            "Nhập tọa độ B (x2, y2): 6 2\n",
            "Khoảng cách giữa A(4.0, 8.0) và B(6.0, 2.0) là: 6.32\n"
          ]
        }
      ]
    },
    {
      "cell_type": "markdown",
      "source": [
        "# **CẤU TRÚC ĐIỀU KIỆN**"
      ],
      "metadata": {
        "id": "faS0GQjDDB3X"
      }
    },
    {
      "cell_type": "markdown",
      "source": [
        "# Bài 1"
      ],
      "metadata": {
        "id": "pFTNnYNgDE1f"
      }
    },
    {
      "cell_type": "code",
      "source": [
        "# Nhập dữ liệu\n",
        "a = int(input())\n",
        "b = int(input())\n",
        "c = int(input())\n",
        "\n",
        "# Xử lý dữ liệu\n",
        "def max_fn(a, b):\n",
        "  return a if a > b else b\n",
        "  pass # max_fn\n",
        "\n",
        "vmax = max_fn(a, b)\n",
        "vmax = max_fn(vmax, c)\n",
        "\n",
        "# Xuất dữ liệu\n",
        "print(\"Max(%d, %d, %d) = %d\"%(a, b, c, vmax))"
      ],
      "metadata": {
        "colab": {
          "base_uri": "https://localhost:8080/"
        },
        "id": "AOGuRmI_DHcK",
        "outputId": "defedcd9-c6e1-4bb3-adbf-aaef553c9712"
      },
      "execution_count": null,
      "outputs": [
        {
          "output_type": "stream",
          "name": "stdout",
          "text": [
            "2\n",
            "5\n",
            "4\n",
            "Max(2, 5, 4) = 5\n"
          ]
        }
      ]
    },
    {
      "cell_type": "markdown",
      "source": [
        "# Bài 2"
      ],
      "metadata": {
        "id": "_4TMldkFD5fU"
      }
    },
    {
      "cell_type": "code",
      "source": [
        "# Nhập dữ liệu\n",
        "a = int(input())\n",
        "b = int(input())\n",
        "c = int(input())\n",
        "\n",
        "# Xuất dữ liệu\n",
        "def max3(a, b, c):\n",
        "    vmax = a if a > b else b\n",
        "    if vmax < c:\n",
        "        vmax = c\n",
        "    return vmax\n",
        "    pass # max3\n",
        "\n",
        "vmax = max3(a, b, c)\n",
        "\n",
        "# Xuất dữ liệu\n",
        "print(\"Max(%d, %d, %d) = %d\"%(a, b, c, vmax))"
      ],
      "metadata": {
        "colab": {
          "base_uri": "https://localhost:8080/"
        },
        "id": "nA50a3bkD7xN",
        "outputId": "5a8c6b66-6984-4c32-e682-5c1f8b02432a"
      },
      "execution_count": null,
      "outputs": [
        {
          "output_type": "stream",
          "name": "stdout",
          "text": [
            "2\n",
            "3\n",
            "4\n",
            "Max(2, 3, 4) = 4\n"
          ]
        }
      ]
    },
    {
      "cell_type": "markdown",
      "source": [
        "# Bài 3"
      ],
      "metadata": {
        "id": "lwRKhVRhFFmr"
      }
    },
    {
      "cell_type": "code",
      "source": [
        "# Nhập dữ liệu\n",
        "a = float(input())\n",
        "b = int(input())\n",
        "\n",
        "# Xử lý dữ liệu\n",
        "def solv1deg(a, b):\n",
        "    \"\"\"\n",
        "    Solve Equation ax + b = 0\n",
        "    \"\"\"\n",
        "    nsol, x = None, None\n",
        "    if a == 0:\n",
        "       if b == 0:\n",
        "           nsol = -1\n",
        "       else:\n",
        "          nsol = 0\n",
        "    else:\n",
        "        nsol = 1\n",
        "        x = -b / a\n",
        "    return nsol, x\n",
        "    pass # solve1deg\n",
        "\n",
        "nsol, x = solv1deg (a, b)\n",
        "\n",
        "# Xuất dữ liệu\n",
        "if nsol == -1:\n",
        "    print(\"%.2fx + %.2f = 0: unlimited solutions\"%(a, b))\n",
        "elif nsol == 0:\n",
        "    print(\"%2.fx + %.2f = 0: no solution\"%(a, b))\n",
        "else:\n",
        "    print(\"%2.fx + %.2f = 0: x = %.2f\"%(a, b, x))"
      ],
      "metadata": {
        "colab": {
          "base_uri": "https://localhost:8080/"
        },
        "id": "qT6IFvriFJOz",
        "outputId": "7e8f95bc-0877-4d2b-fc51-9189dd656a02"
      },
      "execution_count": null,
      "outputs": [
        {
          "output_type": "stream",
          "name": "stdout",
          "text": [
            "1\n",
            "5\n",
            " 1x + 5.00 = 0: x = -5.00\n"
          ]
        }
      ]
    },
    {
      "cell_type": "markdown",
      "source": [
        "# Bài 4"
      ],
      "metadata": {
        "id": "7JWWKOAGGqdr"
      }
    },
    {
      "cell_type": "code",
      "source": [
        "# Nhập dữ liệu\n",
        "y = int(input())\n",
        "\n",
        "# Xử lý dữ liệu\n",
        "def isleap(y):\n",
        "  ans = False\n",
        "  if y%400==0 or(y%4==0 and y%100 !=0):\n",
        "      ans = True\n",
        "  return ans\n",
        "  pas # IsLeap\n",
        "\n",
        "def daysyear(y):\n",
        "    ans = 365\n",
        "    if isleap(y):\n",
        "        ans = 365\n",
        "    return ans\n",
        "    pass # daysyear\n",
        "\n",
        "ans = daysyear(y)\n",
        "\n",
        "# Xuất dữ liệu\n",
        "print(\"%d\"%(ans))"
      ],
      "metadata": {
        "colab": {
          "base_uri": "https://localhost:8080/"
        },
        "id": "0X0ti7IdGr2k",
        "outputId": "18b74be3-a7cf-465d-bfac-d19335c8166a"
      },
      "execution_count": null,
      "outputs": [
        {
          "output_type": "stream",
          "name": "stdout",
          "text": [
            "1992\n",
            "365\n"
          ]
        }
      ]
    },
    {
      "cell_type": "markdown",
      "source": [
        "# Bài 5"
      ],
      "metadata": {
        "id": "1a2bdmuSofbI"
      }
    },
    {
      "cell_type": "code",
      "source": [
        "# Nhập dữ liệu\n",
        "a = float(input(\"Nhập số thứ nhất: \"))\n",
        "b = float(input(\"Nhập số thứ hai: \"))\n",
        "op = input(\"Nhập phép toán (+, -, *, /):\")\n",
        "\n",
        "# Xử lý dữ liệu\n",
        "if op == \"+\":\n",
        "   result = a + b\n",
        "   print(f\"{a} + {b} = {result}\")\n",
        "elif op == \"-\":\n",
        "    result = a - b\n",
        "    print(f\"{a} - {b} = {result}\")\n",
        "elif op == \"*\":\n",
        "    result = a * b\n",
        "    print(f\"{a} * {b} = {result}\")\n",
        "elif op == \"/\":\n",
        "    if b == 0:\n",
        "        print(\"Không tính được (chia cho 0).\")\n",
        "    else:\n",
        "        result = a / b\n",
        "        print(f\"{a} / {b} = {result}\")\n",
        "else:\n",
        "    print(\"Phép toán không hợp lệ\")\n"
      ],
      "metadata": {
        "colab": {
          "base_uri": "https://localhost:8080/"
        },
        "id": "yz7kmxpIogn6",
        "outputId": "57727ac6-d22f-46c1-f07f-571c9280fcbb"
      },
      "execution_count": null,
      "outputs": [
        {
          "output_type": "stream",
          "name": "stdout",
          "text": [
            "Nhập số thứ nhất: 8\n",
            "Nhập số thứ hai: 3\n",
            "Nhập phép toán (+, -, *, /):/\n",
            "8.0 / 3.0 = 2.6666666666666665\n"
          ]
        }
      ]
    },
    {
      "cell_type": "markdown",
      "source": [
        "# Bài 6"
      ],
      "metadata": {
        "id": "cj3WTXoerBxo"
      }
    },
    {
      "cell_type": "code",
      "source": [
        "# Nhập dữ liệu\n",
        "old_kwh = int(input(\"Nhập chỉ số điện cũ: \"))\n",
        "new_kwh = int(input(\"Nhập chỉ số điện mới: \"))\n",
        "\n",
        "# Xử lý dữ liệu\n",
        "kwh = new_kwh - old_kwh\n",
        "\n",
        "def tinh_tien(kwh):\n",
        "    if kwh <= 100:\n",
        "        return kwh * 1242\n",
        "    elif kwh <= 150:\n",
        "        return 100 * 1242 + (kwh - 100) * 1304\n",
        "    elif kwh <= 200:\n",
        "        return 100 * 1242 + 50 * 1304 + (kwh - 150) * 1651\n",
        "    elif kwh <= 300:\n",
        "        return 100 * 1242 + 50 * 1304 + 50 * 1651 + (kwh - 200) * 1788\n",
        "    elif kwh <= 400:\n",
        "        return 100 * 1242 + 50 * 1304 + 50 * 1651 + 100 * 1788 + (kwh - 300) * 1912\n",
        "    else:\n",
        "        return (100 * 1242 + 50 * 1304 + 50 * 1651 +\n",
        "                100 * 1788 + 100 * 1912 + (kwh - 400) * 1962)\n",
        "\n",
        "# Tính tiền\n",
        "tien_dien = tinh_tien(kwh)\n",
        "tong_tien = tien_dien * 1.1\n",
        "\n",
        "# Xuất dữ liệu\n",
        "print(\"Số kWh tiêu thụ:\", kwh)\n",
        "print(\"Số tiền điện (chưa VAT): {:,.0f} VND\".format(tien_dien))\n",
        "print(\"Tổng số tiền phải trả (có VAT): {:,.0f} VND\".format(tong_tien))\n",
        "\n"
      ],
      "metadata": {
        "colab": {
          "base_uri": "https://localhost:8080/"
        },
        "id": "3Hx_UjyFrDwl",
        "outputId": "07562373-bef1-4a24-fd04-1e0dec73080e"
      },
      "execution_count": null,
      "outputs": [
        {
          "output_type": "stream",
          "name": "stdout",
          "text": [
            "Nhập chỉ số điện cũ: 3\n",
            "Nhập chỉ số điện mới: 190\n",
            "Số kWh tiêu thụ: 187\n",
            "Số tiền điện (chưa VAT): 250,487 VND\n",
            "Tổng số tiền phải trả (có VAT): 275,536 VND\n"
          ]
        }
      ]
    },
    {
      "cell_type": "markdown",
      "source": [
        "# Bài 7"
      ],
      "metadata": {
        "id": "MoV392uxvydq"
      }
    },
    {
      "cell_type": "code",
      "source": [
        "def nam_nhuan(y):\n",
        "  return (y % 400 == 0) or (y % 4 == 0 and y % 100 != 0)\n",
        "\n",
        "def so_ngay_trong_thang(m, y):\n",
        "  if m in [1, 3, 5, 7, 8, 10, 12]:\n",
        "    return 30\n",
        "  elif m in [4, 6, 9, 11]:\n",
        "    return 30\n",
        "  elif m == 2:\n",
        "    return 29 if nam_nhuan(y) else 28\n",
        "\n",
        "def ngay_truoc(d, m, y):\n",
        "  if d > 1:\n",
        "    return d -1, m, y\n",
        "  else:\n",
        "    if m == 1:\n",
        "        return 31, 12, y - 1\n",
        "    else:\n",
        "        prev_month = m - 1\n",
        "        prev_day = so_ngay_trong_thang(prev_month, y)\n",
        "        return prev_day, prev_month, y\n",
        "\n",
        "# Nhập dữ liệu\n",
        "d = int(input(\"Nhập ngày: \"))\n",
        "m = int(input(\"Nhập tháng: \"))\n",
        "y = int(input(\"Nhập năm: \"))\n",
        "\n",
        "pd, pm, py = ngay_truoc(d, m, y)\n",
        "\n",
        "# Xuất dữ liệu\n",
        "print(f\"Previous day of {d}/{m}/{y} is {pd}, {pm}, {py}.\")"
      ],
      "metadata": {
        "colab": {
          "base_uri": "https://localhost:8080/"
        },
        "id": "GQKJHBy-sf0g",
        "outputId": "80aacd18-e657-4daa-8334-8c148c7b58f6"
      },
      "execution_count": null,
      "outputs": [
        {
          "output_type": "stream",
          "name": "stdout",
          "text": [
            "Nhập ngày: 1\n",
            "Nhập tháng: 2\n",
            "Nhập năm: 2015\n",
            "Previous day of 1/2/2015 is 30, 1, 2015.\n"
          ]
        }
      ]
    },
    {
      "cell_type": "markdown",
      "source": [
        "# Bài 8"
      ],
      "metadata": {
        "id": "DONW1Kdp19Jv"
      }
    },
    {
      "cell_type": "code",
      "source": [
        "# Nhập dữ liệu\n",
        "a = int(input(\"Nhập cạnh a: \"))\n",
        "b = int(input(\"Nhập cạnh b: \"))\n",
        "c = int(input(\"Nhập cạnh c: \"))\n",
        "\n",
        "# Xử lý dữ liệu\n",
        "def kiem_tra_tam_giac(a,  b, c):\n",
        "    a, b, c = sorted([a, b, c])\n",
        "    if a + b > c:\n",
        "      return \"Ba cạnh này có thể tạo thành tam giác\"\n",
        "    else:\n",
        "      return \"Ba cạnh này không thể tạo thành tam giác\"\n",
        "\n",
        "# Xuất dữ liệu\n",
        "print(kiem_tra_tam_giac(a, b, c))"
      ],
      "metadata": {
        "id": "wG1PvSFq1-uT",
        "colab": {
          "base_uri": "https://localhost:8080/"
        },
        "outputId": "2093fdc8-1854-43a4-d658-34c3a0b2cc25"
      },
      "execution_count": 7,
      "outputs": [
        {
          "output_type": "stream",
          "name": "stdout",
          "text": [
            "Nhập cạnh a: 2\n",
            "Nhập cạnh b: 5\n",
            "Nhập cạnh c: 4\n",
            "Ba cạnh này có thể tạo thành tam giác\n"
          ]
        }
      ]
    },
    {
      "cell_type": "markdown",
      "source": [
        "# **BÀI TẬP THÊM**"
      ],
      "metadata": {
        "id": "r3ZsHet6tst5"
      }
    },
    {
      "cell_type": "markdown",
      "source": [
        "# Bài 1"
      ],
      "metadata": {
        "id": "AzLN0VnYtvQ0"
      }
    },
    {
      "cell_type": "code",
      "source": [
        "# Nhập dữ liệu\n",
        "a = float(input(\"Nhập giá trị a: \"))\n",
        "b = float(input(\"Nhập giá trị b: \"))\n",
        "c = float(input(\"Nhập giá trị c: \"))\n",
        "d = float(input(\"Nhập giá trị d: \"))\n",
        "e = float(input(\"Nhập giá trị e: \"))\n",
        "\n",
        "# Xử lý dữ liệu\n",
        "max_value = max(a, b, c, d, e)\n",
        "min_value = min(a, b, c, d, e)\n",
        "\n",
        "# Xuất dữ liệu\n",
        "print(f\"Giá trị lớn nhất là: {max_value}\")\n",
        "print(f\"Giá trị nhỏ nhất là: {min_value}\")\n"
      ],
      "metadata": {
        "colab": {
          "base_uri": "https://localhost:8080/"
        },
        "id": "rAiliu0btx8X",
        "outputId": "c91a9aa9-a4e9-4896-bf8e-71cf8805cd78"
      },
      "execution_count": 8,
      "outputs": [
        {
          "output_type": "stream",
          "name": "stdout",
          "text": [
            "Nhập giá trị a: 1\n",
            "Nhập giá trị b: 5\n",
            "Nhập giá trị c: 6\n",
            "Nhập giá trị d: 2\n",
            "Nhập giá trị e: 8\n",
            "Giá trị lớn nhất là: 8.0\n",
            "Giá trị nhỏ nhất là: 1.0\n"
          ]
        }
      ]
    },
    {
      "cell_type": "markdown",
      "source": [
        "# Bài 2"
      ],
      "metadata": {
        "id": "tVmMGlMAvEGe"
      }
    },
    {
      "cell_type": "code",
      "source": [
        "# Nạp thư viện\n",
        "import math\n",
        "\n",
        "# Nhập dữ liệu\n",
        "a = int(input(\"Nhập giá trị a: \"))\n",
        "b = int(input(\"Nhập giá trị b: \"))\n",
        "c = int(input(\"Nhập giá trị c: \"))\n",
        "\n",
        "# Xử lý dữ liệu + Xuất dữ liệu\n",
        "if a == 0:\n",
        "    if b == 0:\n",
        "        if c == 0:\n",
        "            print(\"Phương trình vô số nghiệm\")\n",
        "        else:\n",
        "            print(\"Phương trình vô nghiệm\")\n",
        "    else:\n",
        "        x = -c / b\n",
        "        print(\"Phương trình có nghiệm bậc nhất: x = {x}\")\n",
        "else:\n",
        "    delta = b^2 - 4*a*c\n",
        "    if delta > 0:\n",
        "          x1 = (((-b) + math.sqrt(delta)) / (2 * a))\n",
        "          x2 = (((-b) - math.sqrt(delta)) / (2 * a))\n",
        "          print(f\"Phương trình có 2 nghiệm thực phân biệt: x1 = {x1}, x2 = {x2}\")\n",
        "    elif delta == 0:\n",
        "          x = (-b / (2 * a))\n",
        "          print(f\"Phương trình có hai nghiệm kép: x = {x}\")\n",
        "    else:\n",
        "          real_part = (-b / (2* a))\n",
        "          imag_part = math.sqrt(-delta) / (2 * a)\n",
        "          print(\"Phương trình vô nghiệmP: x1 = {real_part} + {imag_part}i, x2 = {real_part} - {imag_part}i\")"
      ],
      "metadata": {
        "colab": {
          "base_uri": "https://localhost:8080/"
        },
        "id": "DI9xOZakvFet",
        "outputId": "8f1d20e8-4f13-45a9-f954-90030c3532e4"
      },
      "execution_count": 32,
      "outputs": [
        {
          "output_type": "stream",
          "name": "stdout",
          "text": [
            "Nhập giá trị a: 0\n",
            "Nhập giá trị b: 0\n",
            "Nhập giá trị c: 0\n",
            "Phương trình vô số nghiệm\n"
          ]
        }
      ]
    },
    {
      "cell_type": "markdown",
      "source": [
        "# Bài 3"
      ],
      "metadata": {
        "id": "dsHUPeCO2Sx6"
      }
    },
    {
      "cell_type": "code",
      "source": [
        "# Nạp thư viện\n",
        "import calendar\n",
        "\n",
        "# Nhập dữ liệu'\n",
        "month = int(input(\"Nhập tháng (1-12): \"))\n",
        "year = int(input(\"Nhập năm: \"))\n",
        "\n",
        "# Xử lý dữ liệu\n",
        "day_in_month = calendar.monthrange (year, month)[1]\n",
        "\n",
        "# Xuất dữ liệu\n",
        "print(day_in_month)"
      ],
      "metadata": {
        "colab": {
          "base_uri": "https://localhost:8080/"
        },
        "id": "1X57CpI22VgY",
        "outputId": "feda1ac1-b912-49e9-e116-f23983120bbd"
      },
      "execution_count": 37,
      "outputs": [
        {
          "output_type": "stream",
          "name": "stdout",
          "text": [
            "Nhập tháng (1-12): 4\n",
            "Nhập năm: 2025\n",
            "30\n"
          ]
        }
      ]
    },
    {
      "cell_type": "markdown",
      "source": [
        "# Bài 4"
      ],
      "metadata": {
        "id": "03A4oDrq4Dxy"
      }
    },
    {
      "cell_type": "code",
      "source": [
        "# Nhập dữ liệu\n",
        "a = int(input(\"Nhập giá trị a: \"))\n",
        "b = int(input(\"Nhập giá trị b: \"))\n",
        "c = int(input(\"Nhập giá trị c: \"))\n",
        "d = int(input(\"Nhập giá trị d: \"))\n",
        "\n",
        "# Xử lý dữ liệu\n",
        "max_value = max( a, b, c, d)\n",
        "\n",
        "# Xuất dữ liệu\n",
        "print(f\"Giá trị lớn nhất trong dãy số tự nhiên có 4 chứ số là: {max_value}\")"
      ],
      "metadata": {
        "colab": {
          "base_uri": "https://localhost:8080/"
        },
        "id": "7tPrT3em4FNk",
        "outputId": "4494a6f2-c369-40e8-b1bf-8569a726ab30"
      },
      "execution_count": 38,
      "outputs": [
        {
          "output_type": "stream",
          "name": "stdout",
          "text": [
            "Nhập giá trị a: 2\n",
            "Nhập giá trị b: 3\n",
            "Nhập giá trị c: 8\n",
            "Nhập giá trị d: 7\n",
            "Giá trị lớn nhất trong dãy số tự nhiên có 4 chứ số là: 8\n"
          ]
        }
      ]
    },
    {
      "cell_type": "markdown",
      "source": [
        "# Bài 5"
      ],
      "metadata": {
        "id": "JMCrFr-Z43N1"
      }
    },
    {
      "cell_type": "code",
      "source": [
        "# Nhập dữ liệu\n",
        "Toán = float(input(\"Nhập điểm Toán: \"))\n",
        "Lý = float(input(\"Nhập điểm Lý: \"))\n",
        "Hoá = float(input(\"Nhập điểm Hoá: \"))\n",
        "\n",
        "# Xử lý dữ liệu\n",
        "DTB = (Toán * 2 + Lý * 3 + Hoá) / 6\n",
        "\n",
        "if 8 <= DTB <= 10:\n",
        "  xep_loai = \"Gioi\"\n",
        "if 6.5 <= DTB < 8:\n",
        "  xep_loai = \"Khá\"\n",
        "if 5 <= DTB < 6.5:\n",
        "  xep_loai = \"Trung bình\"\n",
        "if DTB < 5:\n",
        "  xep_loai = \"Yếu\"\n",
        "\n",
        "# Xuất dữ liệu\\\n",
        "print(f\"Điểm trung bình là: {DTB:.2f}\")\n",
        "print(f\"Xếp loại: {xep_loai}\")"
      ],
      "metadata": {
        "colab": {
          "base_uri": "https://localhost:8080/"
        },
        "id": "9qO5g6BY45F_",
        "outputId": "26ecfa9f-0492-4e50-9cfb-406d9fefc555"
      },
      "execution_count": 40,
      "outputs": [
        {
          "output_type": "stream",
          "name": "stdout",
          "text": [
            "Nhập điểm Toán: 7\n",
            "Nhập điểm Lý: 6\n",
            "Nhập điểm Hoá: 8\n",
            "Điểm trung bình là: 6.67\n",
            "Xếp loại: Khá\n"
          ]
        }
      ]
    },
    {
      "cell_type": "code",
      "source": [
        "# Nhập dữ liệu\n",
        "m3_consumed = float(input(\"Nhập số m3 tiêu thụ trong tháng: \"))\n",
        "\n",
        "# Xử lý dữ liệu\n",
        "def calculate_water_payment(m3_consumed):\n",
        "    # Mức giá\n",
        "    first_4_m3 = 4400\n",
        "    next_2_m3 = 8300\n",
        "    after_6_m3 = 10500\n",
        "\n",
        "    if m3_consumed <= 4:\n",
        "        total_cost = m3_consumed * first_4_m3\n",
        "    elif m3_consumed <= 6:\n",
        "        total_cost = 4 * first_4_m3 + (m3_consumed - 4) * next_2_m3\n",
        "    else:\n",
        "        total_cost = 4 * first_4_m3 + 2 * next_2_m3 + (m3_consumed - 6) * after_6_m3\n",
        "\n",
        "    tax = total_cost * 0.05\n",
        "    environmental_fee = total_cost * 0.10\n",
        "    total_payment = total_cost + tax + environmental_fee\n",
        "    return total_payment\n",
        "payment = calculate_water_payment(m3_consumed)\n",
        "\n",
        "# Xuất dữ liệu\n",
        "print(f\"Số tiền nước tiêu thụ của một hộ gia đình là: {payment:.2f} VND\")\n"
      ],
      "metadata": {
        "colab": {
          "base_uri": "https://localhost:8080/"
        },
        "id": "AHYMWT5x6egx",
        "outputId": "3f47c642-43a5-4c34-bb88-06e7b001678d"
      },
      "execution_count": 59,
      "outputs": [
        {
          "output_type": "stream",
          "name": "stdout",
          "text": [
            "Nhập số m3 tiêu thụ trong tháng: 1\n",
            "Số tiền nước tiêu thụ của một hộ gia đình là: 5060.00 VND\n"
          ]
        }
      ]
    },
    {
      "cell_type": "markdown",
      "source": [
        "# Bài 7"
      ],
      "metadata": {
        "id": "g_Urs1jzCenM"
      }
    },
    {
      "cell_type": "code",
      "source": [
        "# Nạp thư viện\n",
        "from datetime import datetime, timedelta\n",
        "\n",
        "# Nhập dữ liệu\n",
        "day = int(input(\"Nhập ngày: \"))\n",
        "month = int(input(\"Nhập tháng: \"))\n",
        "year = int(input(\"Nhập năm: \"))\n",
        "\n",
        "# Xử lý dữ liệu\n",
        "current_day = datetime(year, month, day)\n",
        "next_day = current_day + timedelta(days=1)\n",
        "\n",
        "# Xuất dữ liệu\n",
        "print(f\"Ngày hôm sau là: {next_day.strftime('%d/%m/%y')}\")"
      ],
      "metadata": {
        "colab": {
          "base_uri": "https://localhost:8080/"
        },
        "id": "Zf1cP68vC0dl",
        "outputId": "3da3f547-00f1-457b-dc6d-4a65ff20064d"
      },
      "execution_count": 73,
      "outputs": [
        {
          "output_type": "stream",
          "name": "stdout",
          "text": [
            "Nhập ngày: 31\n",
            "Nhập tháng: 1\n",
            "Nhập năm: 2015\n",
            "Ngày hôm sau là: 01/02/15\n"
          ]
        }
      ]
    },
    {
      "cell_type": "markdown",
      "source": [
        "# Bài 8"
      ],
      "metadata": {
        "id": "Ls1IgQxFGMeF"
      }
    },
    {
      "cell_type": "code",
      "source": [
        "# Nhập dữ liệu\n",
        "n = int(input(\"Nhập số tự nhiên n (nhỏ hơn 1000): \"))\n",
        "\n",
        "# Xử lý dữ liệu\n",
        "num_digits = len(str(n))\n",
        "sum_digits = sum(int(digit) for digit in str(n))\n",
        "last_digit = n % 10\n",
        "first_digit = int(str(n)[0])\n",
        "\n",
        "# Xuất dữ liệu\n",
        "print(f\"{n} có {num_digits} chữ số\")\n",
        "print(\" + \".join(str(digit) for digit in str(n)) + f\" = {sum_digits}.\")\n",
        "print(f\"Chữ số cuối của n: {last_digit}\")\n",
        "print(f\"Chữ số đầu của n: {first_digit}\")"
      ],
      "metadata": {
        "colab": {
          "base_uri": "https://localhost:8080/"
        },
        "id": "R3jTP3ZeGNsR",
        "outputId": "f47c7af5-0b86-40a9-e36e-7d88c3c5784d"
      },
      "execution_count": 81,
      "outputs": [
        {
          "output_type": "stream",
          "name": "stdout",
          "text": [
            "Nhập số tự nhiên n (nhỏ hơn 1000): 156\n",
            "156 có 3 chữ số\n",
            "1 + 5 + 6 = 12.\n",
            "Chữ số cuối của n: 6\n",
            "Chữ số đầu của n: 1\n"
          ]
        }
      ]
    },
    {
      "cell_type": "markdown",
      "source": [
        "# **# CẤU TRÚC LẶP LẠI VÀ LIST**"
      ],
      "metadata": {
        "id": "w85KNsJSJBZU"
      }
    },
    {
      "cell_type": "markdown",
      "source": [
        "# Bài 1"
      ],
      "metadata": {
        "id": "dtu9OaW5JDqG"
      }
    },
    {
      "cell_type": "code",
      "source": [
        "def sort_list():\n",
        "    # Nhập dữ liệu\n",
        "    A = input(\"Nhập danh sách chuỗi các chữ số (cách nhau bởi dấu phẩy): \").split(',')\n",
        "\n",
        "    # Xử lý dữ liệu:\n",
        "    A = [x.strip() for x in A]\n",
        "    string_sorted = sorted(A)\n",
        "    integer_sorted = sorted(A, key=int)\n",
        "\n",
        "    # Xuất dữ liệu\n",
        "    print(\"String compare:\", string_sorted)\n",
        "    print(\"Integer compare:\", integer_sorted)\n",
        "\n",
        "# Gọi hàm để thực hiện\n",
        "sort_list()\n"
      ],
      "metadata": {
        "colab": {
          "base_uri": "https://localhost:8080/"
        },
        "id": "3ACqpYyxJFzP",
        "outputId": "34e1274f-9ee1-4ada-e0a4-3cf231ccfbcc"
      },
      "execution_count": 89,
      "outputs": [
        {
          "output_type": "stream",
          "name": "stdout",
          "text": [
            "Nhập danh sách chuỗi các chữ số (cách nhau bởi dấu phẩy): 3, 5, 123, 27, 9, 1\n",
            "String compare: ['1', '123', '27', '3', '5', '9']\n",
            "Integer compare: ['1', '3', '5', '9', '27', '123']\n"
          ]
        }
      ]
    },
    {
      "cell_type": "markdown",
      "source": [
        "# Bài 2"
      ],
      "metadata": {
        "id": "WBnKW5EiLqTh"
      }
    },
    {
      "cell_type": "code",
      "source": [
        "def process_list():\n",
        "    # Nhập dữ liệu\n",
        "    A = [12, 24, 35, 70, 88, 120, 155]\n",
        "\n",
        "    # Xử lý dữ liệu:\n",
        "    indices_to_remove = {1, 2, 3, 6}\n",
        "    result_list = [value for idx, value in enumerate(A) if idx not in indices_to_remove]\n",
        "\n",
        "    # Xuất dữ liệu\n",
        "    print(\"Danh sách sau khi xóa các phần tử tại vị trí thứ 1, 2, 3, 6:\", result_list)\n",
        "\n",
        "# Gọi hàm để thực hiện\n",
        "process_list()\n"
      ],
      "metadata": {
        "colab": {
          "base_uri": "https://localhost:8080/"
        },
        "id": "o4qW_ghvLr1l",
        "outputId": "14048905-ed9b-4202-d7fc-d6d40c66f9c2"
      },
      "execution_count": 100,
      "outputs": [
        {
          "output_type": "stream",
          "name": "stdout",
          "text": [
            "Danh sách sau khi xóa các phần tử tại vị trí thứ 1, 2, 3, 6: [12, 88, 120]\n"
          ]
        }
      ]
    },
    {
      "cell_type": "markdown",
      "source": [
        "# Bài 3"
      ],
      "metadata": {
        "id": "KCXgTJLzNta_"
      }
    },
    {
      "cell_type": "code",
      "source": [
        "def remove_duplicates():\n",
        "  #Nhập dữ liệu\n",
        "  A = input(\"Nhập danh sách các phần tử (cách nhau bởi dấu phẩy): \").split(',')\n",
        "\n",
        "  # Xử lý dữ liệu\n",
        "  A = [x.strip() for x in A]\n",
        "  result_list = []\n",
        "\n",
        "  for item in A:\n",
        "    if item not in result_list:\n",
        "      result_list.append(item)\n",
        "\n",
        "  # Xuất dữ liệu\n",
        "  print(\"Danh sách sau khi xoá các phần tử trùng nhau:\", result_list)\n",
        "\n",
        "# Gọi hàm để thực hiện\n",
        "remove_duplicates()"
      ],
      "metadata": {
        "colab": {
          "base_uri": "https://localhost:8080/"
        },
        "id": "hF0irNqoNvFo",
        "outputId": "13924a2a-d0ae-4c81-92f8-4668d83eec4a"
      },
      "execution_count": 106,
      "outputs": [
        {
          "output_type": "stream",
          "name": "stdout",
          "text": [
            "Nhập danh sách các phần tử (cách nhau bởi dấu phẩy): 1, 2, 3, 1, 2, 5, 6, 7, 8\n",
            "Danh sách sau khi xoá các phần tử trùng nhau: ['1', '2', '3', '5', '6', '7', '8']\n"
          ]
        }
      ]
    },
    {
      "cell_type": "markdown",
      "source": [
        "# Bài 4"
      ],
      "metadata": {
        "id": "Htp-cYhNPVcy"
      }
    },
    {
      "cell_type": "code",
      "source": [
        "def count_elements():\n",
        "  # Nhập dữ liệu\n",
        "  A = input(\"Nhập danh sách các phần tử (cách nhau bởi dấu phẩy):\").split(',')\n",
        "\n",
        "  # Xử lý dữ liệu\n",
        "  A = [x.strip() for x in A]\n",
        "  result_dict = {}\n",
        "\n",
        "  for item in A:\n",
        "      if item in result_dict:\n",
        "          result_dict[item] += 1\n",
        "      else:\n",
        "          result_dict[item] = 1\n",
        "  # Xuất dữ liệu\n",
        "  result_str = \", \".join([f\"{item}: {count}\" for item, count in result_dict.items()])\n",
        "  print(result_str)\n",
        "\n",
        "# Gọi hàm để thực hiện\n",
        "count_elements()\n"
      ],
      "metadata": {
        "colab": {
          "base_uri": "https://localhost:8080/"
        },
        "id": "9xhdBySZPXHJ",
        "outputId": "3c6578c3-a6e6-44c0-f8ba-a3a3283469aa"
      },
      "execution_count": 120,
      "outputs": [
        {
          "output_type": "stream",
          "name": "stdout",
          "text": [
            "Nhập danh sách các phần tử (cách nhau bởi dấu phẩy):1,1,1,1,2,2,2,2,3,3,4,5,5\n",
            "1: 4, 2: 4, 3: 2, 4: 1, 5: 2\n"
          ]
        }
      ]
    },
    {
      "cell_type": "code",
      "source": [],
      "metadata": {
        "id": "Vyd5UiqbQZfZ"
      },
      "execution_count": null,
      "outputs": []
    }
  ]
}