{
  "nbformat": 4,
  "nbformat_minor": 0,
  "metadata": {
    "colab": {
      "provenance": [],
      "authorship_tag": "ABX9TyOT6ab0AJ+0bFgWWTE0jUHE",
      "include_colab_link": true
    },
    "kernelspec": {
      "name": "python3",
      "display_name": "Python 3"
    },
    "language_info": {
      "name": "python"
    }
  },
  "cells": [
    {
      "cell_type": "markdown",
      "metadata": {
        "id": "view-in-github",
        "colab_type": "text"
      },
      "source": [
        "<a href=\"https://colab.research.google.com/github/nganphan-678/NganPhan.github.io./blob/main/Untitled1.ipynb\" target=\"_parent\"><img src=\"https://colab.research.google.com/assets/colab-badge.svg\" alt=\"Open In Colab\"/></a>"
      ]
    },
    {
      "cell_type": "code",
      "execution_count": 2,
      "metadata": {
        "colab": {
          "base_uri": "https://localhost:8080/"
        },
        "id": "UR2BisqFoBUe",
        "outputId": "7d749167-71a0-4916-e7a2-8d60b3d8222a"
      },
      "outputs": [
        {
          "output_type": "stream",
          "name": "stdout",
          "text": [
            "Whose is happy will make others happy too\n",
            "--Anne Frank\n"
          ]
        }
      ],
      "source": [
        "print(\"Whose is happy will make others happy too\");\n",
        "print(\"--Anne Frank\");"
      ]
    },
    {
      "cell_type": "code",
      "source": [
        "# Nhập dữ liệu\n",
        "a = int(input(\"Moi bạn nhap so a: \"))\n",
        "b = int(input(\"Moi bạn nhap so b: \"))\n",
        "\n",
        "# Xử lý\n",
        "kqCong = a + b\n",
        "kqTru = a - b\n",
        "kqNhan = a * b\n",
        "kqChiaNguyen = a // b\n",
        "kqDu= a % b\n",
        "kqChiaThuc = a / b\n",
        "\n",
        "# Xuất dữ liệu\n",
        "print(\"Cac ket qua tinh toan: \")\n",
        "print(\"%-5d + %5d = %5d\"%(a, b, kqCong))\n",
        "print(\"%-5d - %5d = %5d\"%(a, b, kqTru))\n",
        "print(\"%-5d * %5d = %5d\"%(a, b, kqNhan))\n",
        "print(\"%-5d / %5d = %5d\"%(a, b, kqChiaNguyen))\n",
        "print(\"%-5d / %5d = %5d\"%(a, b, kqDu))\n",
        "print(\"%-5d / %5d = %5.2f\"%(a, b, kqChiaThuc))"
      ],
      "metadata": {
        "colab": {
          "base_uri": "https://localhost:8080/"
        },
        "id": "SdPN6w7Kos7X",
        "outputId": "12afeef0-fd3c-4c02-d5d7-c5a7da199839"
      },
      "execution_count": 4,
      "outputs": [
        {
          "output_type": "stream",
          "name": "stdout",
          "text": [
            "Moi bạn nhap so a: 5\n",
            "Moi bạn nhap so b: 6\n",
            "Cac ket qua tinh toan: \n",
            "5     +     6 =    11\n",
            "5     -     6 =    -1\n",
            "5     *     6 =    30\n",
            "5     /     6 =     0\n",
            "5     /     6 =     5\n",
            "5     /     6 =  0.83\n"
          ]
        }
      ]
    },
    {
      "cell_type": "code",
      "source": [
        "# Nhập dữ liệu\n",
        "a = float(input(\"Moi ban nhap a: \"))\n",
        "b = float(input(\"Moi ban nhap b: \"))\n",
        "\n",
        "# Xử lý\n",
        "laNhoHon = (a < b)\n",
        "laNhoHonBang = (a<= b)\n",
        "laLonHon = (a > b)\n",
        "laLonHonBang = (a >= b)\n",
        "laBang = (a == b)\n",
        "laKhacNhau = (a != b)\n",
        "\n",
        "# Xuất dữ liệu\n",
        "print(\"Ket qua so sanh hai so thuc %.2f và %.2f:\"%(a, b))\n",
        "print(\"%-8.2f < %8.2f: %8s\"%(a, b, laNhoHon))\n",
        "print(\"%-8.2f <= %8.2f: %8s\"%(a, b, laNhoHonBang))\n",
        "print(\"%-8.2f > %8.2f: %8s\"%(a, b, laLonHon))\n",
        "print(\"%-8.2f >= %8.2f: %8s\"%(a, b, laLonHonBang))\n",
        "print(\"%-8.2f = %8.2f: %8s\"%(a, b, laBang))\n",
        "print(\"%-8.2f != %8.2f: %8s\"%(a, b, laKhacNhau))"
      ],
      "metadata": {
        "colab": {
          "base_uri": "https://localhost:8080/"
        },
        "id": "RcxbDQ57q2K_",
        "outputId": "7db6fcf5-8f5f-454a-8e31-40eb539f96fc"
      },
      "execution_count": 7,
      "outputs": [
        {
          "output_type": "stream",
          "name": "stdout",
          "text": [
            "Moi ban nhap a: 2.5\n",
            "Moi ban nhap b: 6.8\n",
            "Ket qua so sanh hai so thuc 2.50 và 6.80:\n",
            "2.50     <     6.80:     True\n",
            "2.50     <=     6.80:     True\n",
            "2.50     >     6.80:    False\n",
            "2.50     >=     6.80:    False\n",
            "2.50     =     6.80:    False\n",
            "2.50     !=     6.80:     True\n"
          ]
        }
      ]
    }
  ]
}