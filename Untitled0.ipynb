{
  "nbformat": 4,
  "nbformat_minor": 0,
  "metadata": {
    "colab": {
      "provenance": [],
      "authorship_tag": "ABX9TyNS5rzTKdNDT5nWVrmz52Id",
      "include_colab_link": true
    },
    "kernelspec": {
      "name": "python3",
      "display_name": "Python 3"
    },
    "language_info": {
      "name": "python"
    }
  },
  "cells": [
    {
      "cell_type": "markdown",
      "metadata": {
        "id": "view-in-github",
        "colab_type": "text"
      },
      "source": [
        "<a href=\"https://colab.research.google.com/github/nganphan-678/NganPhan.github.io./blob/main/Untitled0.ipynb\" target=\"_parent\"><img src=\"https://colab.research.google.com/assets/colab-badge.svg\" alt=\"Open In Colab\"/></a>"
      ]
    },
    {
      "cell_type": "code",
      "execution_count": 1,
      "metadata": {
        "colab": {
          "base_uri": "https://localhost:8080/",
          "height": 106
        },
        "id": "OHirA54Fn-bB",
        "outputId": "b56dd698-ccb9-4015-e855-9ad12e7d0198"
      },
      "outputs": [
        {
          "output_type": "error",
          "ename": "SyntaxError",
          "evalue": "invalid syntax. Perhaps you forgot a comma? (ipython-input-3636707300.py, line 1)",
          "traceback": [
            "\u001b[0;36m  File \u001b[0;32m\"/tmp/ipython-input-3636707300.py\"\u001b[0;36m, line \u001b[0;32m1\u001b[0m\n\u001b[0;31m    print (''Hello World'')\u001b[0m\n\u001b[0m           ^\u001b[0m\n\u001b[0;31mSyntaxError\u001b[0m\u001b[0;31m:\u001b[0m invalid syntax. Perhaps you forgot a comma?\n"
          ]
        }
      ],
      "source": [
        "print (''Hello World'')"
      ]
    },
    {
      "cell_type": "code",
      "source": [],
      "metadata": {
        "id": "yPobvQ3BoJfs"
      },
      "execution_count": null,
      "outputs": []
    },
    {
      "cell_type": "code",
      "source": [
        "score = 80\n",
        "if score >= 60\n",
        "    print (\"Pass\")"
      ],
      "metadata": {
        "colab": {
          "base_uri": "https://localhost:8080/",
          "height": 106
        },
        "id": "wr_S_TqLoUeM",
        "outputId": "dcd947a6-cd0c-4f58-a136-30a8ce4e8b5e"
      },
      "execution_count": 2,
      "outputs": [
        {
          "output_type": "error",
          "ename": "SyntaxError",
          "evalue": "expected ':' (ipython-input-4121688620.py, line 2)",
          "traceback": [
            "\u001b[0;36m  File \u001b[0;32m\"/tmp/ipython-input-4121688620.py\"\u001b[0;36m, line \u001b[0;32m2\u001b[0m\n\u001b[0;31m    if score >= 60\u001b[0m\n\u001b[0m                  ^\u001b[0m\n\u001b[0;31mSyntaxError\u001b[0m\u001b[0;31m:\u001b[0m expected ':'\n"
          ]
        }
      ]
    },
    {
      "cell_type": "code",
      "source": [
        "score = 80\n",
        "if score >=60 :\n",
        "   print (\"Pass\")"
      ],
      "metadata": {
        "colab": {
          "base_uri": "https://localhost:8080/"
        },
        "id": "MPa4QNO1or0e",
        "outputId": "c21006fe-2d22-47d9-d0bd-3f703069596a"
      },
      "execution_count": 3,
      "outputs": [
        {
          "output_type": "stream",
          "name": "stdout",
          "text": [
            "Pass\n"
          ]
        }
      ]
    },
    {
      "cell_type": "code",
      "source": [
        "#Python Variable\n",
        "x = 2\n",
        "price = 2.5\n",
        "word = 'Hello'\n",
        "\n",
        "word = 'Hello'\n",
        "word = \"Hello\"\n",
        "word = '''Hello'''\n",
        "print(x, price, word)\n",
        "print(f'x = {x, type(x)}, price={price, type(price)}, word={word, type(word)}')"
      ],
      "metadata": {
        "colab": {
          "base_uri": "https://localhost:8080/"
        },
        "id": "rlMPLQoyo59q",
        "outputId": "4fb5e132-26b8-4aa7-f440-8c60871f6471"
      },
      "execution_count": 4,
      "outputs": [
        {
          "output_type": "stream",
          "name": "stdout",
          "text": [
            "2 2.5 Hello\n",
            "x = (2, <class 'int'>), price=(2.5, <class 'float'>), word=('Hello', <class 'str'>)\n"
          ]
        }
      ]
    },
    {
      "cell_type": "code",
      "source": [
        "x = 'Hello, Word'\n",
        "print(x, type(x))\n",
        "\n",
        "x = 2\n",
        "print (x, type(x))\n",
        "\n",
        "x = 2.5\n",
        "print (x, type(x))\n",
        "\n",
        "x = 7j\n",
        "print (x, type(x))"
      ],
      "metadata": {
        "colab": {
          "base_uri": "https://localhost:8080/"
        },
        "id": "cm5K8aJ0qcKo",
        "outputId": "75de7f4e-9499-4288-df04-503d4d544e29"
      },
      "execution_count": 5,
      "outputs": [
        {
          "output_type": "stream",
          "name": "stdout",
          "text": [
            "Hello, Word <class 'str'>\n",
            "2 <class 'int'>\n",
            "2.5 <class 'float'>\n",
            "7j <class 'complex'>\n"
          ]
        }
      ]
    },
    {
      "cell_type": "code",
      "source": [
        "x = ['apple', 'banana', 'cherry']\n",
        "x.append('hello')\n",
        "print (x, type(x), x [1:3])\n",
        "\n",
        "x = ['apple', 'banana', 'cherry', 'hello']\n",
        "# x.append('hello')\n",
        "x = ('apple', 'banana', 'cherry', 'hello')\n",
        "print(x, type(x), x[1:3])\n",
        "\n",
        "x = {'name': 'Tome', 'age': 20}  # dictionary\n",
        "print(x, type(x), x['name'], x['age'])\n",
        "\n",
        "x={'apple', 'banana', 'cherry'} # set\n",
        "x.add('hello')\n",
        "print(x, type(x))"
      ],
      "metadata": {
        "colab": {
          "base_uri": "https://localhost:8080/"
        },
        "id": "09ugP1ftrUP0",
        "outputId": "12bcb2f9-67b2-46af-f1d4-9cd5ddb0ffd9"
      },
      "execution_count": 9,
      "outputs": [
        {
          "output_type": "stream",
          "name": "stdout",
          "text": [
            "['apple', 'banana', 'cherry', 'hello'] <class 'list'> ['banana', 'cherry']\n",
            "('apple', 'banana', 'cherry', 'hello') <class 'tuple'> ('banana', 'cherry')\n",
            "{'name': 'Tome', 'age': 20} <class 'dict'> Tome 20\n",
            "{'apple', 'banana', 'cherry', 'hello'} <class 'set'>\n"
          ]
        }
      ]
    },
    {
      "cell_type": "code",
      "source": [],
      "metadata": {
        "id": "YhPvjIqNxee6"
      },
      "execution_count": null,
      "outputs": []
    },
    {
      "cell_type": "code",
      "source": [
        "x = True\n",
        "print(x, type(x))\n",
        "\n",
        "x = b'Hello'  #bytes\n",
        "print(x, type(x))\n",
        "\n",
        "x = bytearray(5)  #bytearray\n",
        "print(x, type(x))\n",
        "\n",
        "x = memoryview(bytes(5))  #memoryview\n",
        "print(x, type(x))"
      ],
      "metadata": {
        "colab": {
          "base_uri": "https://localhost:8080/"
        },
        "id": "7A99Z8UMuSE6",
        "outputId": "ed3c2e62-617e-40d0-f7b7-8a4db0ca9426"
      },
      "execution_count": 10,
      "outputs": [
        {
          "output_type": "stream",
          "name": "stdout",
          "text": [
            "True <class 'bool'>\n",
            "b'Hello' <class 'bytes'>\n",
            "bytearray(b'\\x00\\x00\\x00\\x00\\x00') <class 'bytearray'>\n",
            "<memory at 0x78891ab41cc0> <class 'memoryview'>\n"
          ]
        }
      ]
    },
    {
      "cell_type": "code",
      "source": [
        "#bmi\n",
        "#input\n",
        "height_cm = 163\n",
        "weight_kg = 47\n",
        "\n",
        "#process\n",
        "height_m = height_cm / 100\n",
        "bmi = (weight_kg / (height_m ** 2))\n",
        "print('Your BMI is ', round(bmi, 2))"
      ],
      "metadata": {
        "colab": {
          "base_uri": "https://localhost:8080/"
        },
        "id": "fD1kIZtRvJBJ",
        "outputId": "c20814e5-5d6b-40ce-c0d4-ba03ce35e2ab"
      },
      "execution_count": 12,
      "outputs": [
        {
          "output_type": "stream",
          "name": "stdout",
          "text": [
            "Your BMI is  17.69\n"
          ]
        }
      ]
    },
    {
      "cell_type": "code",
      "source": [
        "#input\n",
        "pv = 100\n",
        "r = 0.1\n",
        "n = 7\n",
        "\n",
        "#process\n",
        "fv = pv* ((1 + r)**n)\n",
        "print('fv = ', round(fv, 2))"
      ],
      "metadata": {
        "colab": {
          "base_uri": "https://localhost:8080/"
        },
        "id": "7MuyH6d6v7WJ",
        "outputId": "4f7f13d6-eab3-4617-b959-a9b128155b6f"
      },
      "execution_count": 13,
      "outputs": [
        {
          "output_type": "stream",
          "name": "stdout",
          "text": [
            "fv =  194.87\n"
          ]
        }
      ]
    },
    {
      "cell_type": "code",
      "source": [
        "#input\n",
        "amount = 100\n",
        "interest = 10 # 10%\n",
        "years = 7\n",
        "\n",
        "#process\n",
        "future_value = amount * ( (1 + interest / 100.0) ** years)\n",
        "print('future_value = ', round(future_value, 2))"
      ],
      "metadata": {
        "colab": {
          "base_uri": "https://localhost:8080/"
        },
        "id": "UenoNBwAwiYD",
        "outputId": "c2b5cd38-bd1b-4ffe-89b8-3d690784e1d5"
      },
      "execution_count": 15,
      "outputs": [
        {
          "output_type": "stream",
          "name": "stdout",
          "text": [
            "future_value =  194.87\n"
          ]
        }
      ]
    },
    {
      "cell_type": "code",
      "source": [
        "x = ['apple', 'banana', 'cherry'] #list\n",
        "print(x, type(x))\n",
        "\n",
        "x = ('apple', 'banana', 'cherry', 'hello') # tuple\n",
        "print(x, type(x))\n",
        "\n",
        "x = {'name': 'Tome', 'age': 20}  # dictionary\n",
        "print(x, type(x), x['name'], x['age'])\n",
        "\n",
        "x={'apple', 'banana', 'cherry'} # set\n",
        "x.add('hello')\n",
        "print(x, type(x))"
      ],
      "metadata": {
        "id": "UGVmpxoxxgA-"
      },
      "execution_count": null,
      "outputs": []
    },
    {
      "cell_type": "code",
      "source": [
        "x = [60, 70, 80, 90]\n",
        "print(len(x))\n",
        "print(x[0])\n",
        "print(x[1])\n",
        "print(x[-1])"
      ],
      "metadata": {
        "colab": {
          "base_uri": "https://localhost:8080/"
        },
        "id": "gpycekHGyE4A",
        "outputId": "8e6f7d81-1211-44e7-fed6-9fa2643354d9"
      },
      "execution_count": 16,
      "outputs": [
        {
          "output_type": "stream",
          "name": "stdout",
          "text": [
            "4\n",
            "60\n",
            "70\n",
            "90\n"
          ]
        }
      ]
    },
    {
      "cell_type": "code",
      "source": [
        "animals = {'cat', 'dog'}\n",
        "print('cat' in animals)\n",
        "print('fish' in animals)\n",
        "animals.add('fish')\n",
        "print('fish' in animals)\n",
        "print(len(animals))\n",
        "animals.add('cat')\n",
        "print(len(animals))\n",
        "animals.remove('cat')\n",
        "print(len(animals))"
      ],
      "metadata": {
        "colab": {
          "base_uri": "https://localhost:8080/"
        },
        "id": "T6Qsmi2MynKZ",
        "outputId": "4d85c8c9-42a1-4a47-a664-e9a475acb878"
      },
      "execution_count": 19,
      "outputs": [
        {
          "output_type": "stream",
          "name": "stdout",
          "text": [
            "True\n",
            "False\n",
            "True\n",
            "3\n",
            "3\n",
            "2\n"
          ]
        }
      ]
    },
    {
      "cell_type": "code",
      "source": [
        "#dictionary\n",
        "k = {'EN': 'English', 'FR': 'French'}\n",
        "print(k['EN'])"
      ],
      "metadata": {
        "colab": {
          "base_uri": "https://localhost:8080/"
        },
        "id": "5Jp09VDFzos3",
        "outputId": "fea3251f-0f5d-43c9-d192-b9c66e8bb168"
      },
      "execution_count": 20,
      "outputs": [
        {
          "output_type": "stream",
          "name": "stdout",
          "text": [
            "English\n"
          ]
        }
      ]
    },
    {
      "cell_type": "code",
      "source": [
        "#data types\n",
        "fruit = ['apple', 'banana', 'cherry']  #list []\n",
        "colors = ('red', 'green', 'blue')  # tuple ()\n",
        "animals = {'cat', 'dog'}  #set {}\n",
        "person = {'name': 'Tom', 'age': 20}  #dict{k:v}\n",
        "\n",
        "#list\n",
        "expense = [72.5, 80.75, 50.0, 90.25]\n",
        "total_expense = sum(expense)\n",
        "print('Total expense = ', total_expense)"
      ],
      "metadata": {
        "colab": {
          "base_uri": "https://localhost:8080/"
        },
        "id": "fBM6kR6H0dfU",
        "outputId": "e1bc782d-d54c-4915-eae2-4eae810a4c3a"
      },
      "execution_count": 27,
      "outputs": [
        {
          "output_type": "stream",
          "name": "stdout",
          "text": [
            "Total expense =  293.5\n"
          ]
        }
      ]
    },
    {
      "cell_type": "code",
      "source": [
        "#tuple\n",
        "accounts = (('Cash', 1001), ('Accounts Receinable', 1002), ('Inventory', 1003))\n",
        "for account in accounts:\n",
        "  print('Account Name: ', account[0], ' - Account Number: ', account[1])\n",
        "\n"
      ],
      "metadata": {
        "colab": {
          "base_uri": "https://localhost:8080/"
        },
        "id": "fYRHYSZD1NLr",
        "outputId": "aaa102f9-ec44-4bfb-fb86-1bbbc0aa8b23"
      },
      "execution_count": 30,
      "outputs": [
        {
          "output_type": "stream",
          "name": "stdout",
          "text": [
            "Account Name:  Cash  - Account Number:  1001\n",
            "Account Name:  Accounts Receinable  - Account Number:  1002\n",
            "Account Name:  Inventory  - Account Number:  1003\n"
          ]
        }
      ]
    },
    {
      "cell_type": "code",
      "source": [
        "#set\n",
        "account_numbers = set([acc[1] for acc in accounts])  #set comprehensive\n",
        "print(account_numbers)\n",
        "new_acc_numbers = 1004\n",
        "if new_acc_number not in account_numbers:\n",
        "  print(f'Account numebr {new_acc_number} is not in use')"
      ],
      "metadata": {
        "colab": {
          "base_uri": "https://localhost:8080/",
          "height": 211
        },
        "id": "jfZDkcYT2oYe",
        "outputId": "0cd2b901-3dad-4bc9-fa4d-45eac67a6668"
      },
      "execution_count": 35,
      "outputs": [
        {
          "output_type": "stream",
          "name": "stdout",
          "text": [
            "{1001, 1002, 1003}\n"
          ]
        },
        {
          "output_type": "error",
          "ename": "NameError",
          "evalue": "name 'new_acc_number' is not defined",
          "traceback": [
            "\u001b[0;31m---------------------------------------------------------------------------\u001b[0m",
            "\u001b[0;31mNameError\u001b[0m                                 Traceback (most recent call last)",
            "\u001b[0;32m/tmp/ipython-input-2790975694.py\u001b[0m in \u001b[0;36m<cell line: 0>\u001b[0;34m()\u001b[0m\n\u001b[1;32m      3\u001b[0m \u001b[0mprint\u001b[0m\u001b[0;34m(\u001b[0m\u001b[0maccount_numbers\u001b[0m\u001b[0;34m)\u001b[0m\u001b[0;34m\u001b[0m\u001b[0;34m\u001b[0m\u001b[0m\n\u001b[1;32m      4\u001b[0m \u001b[0mnew_acc_numbers\u001b[0m \u001b[0;34m=\u001b[0m \u001b[0;36m1004\u001b[0m\u001b[0;34m\u001b[0m\u001b[0;34m\u001b[0m\u001b[0m\n\u001b[0;32m----> 5\u001b[0;31m \u001b[0;32mif\u001b[0m \u001b[0mnew_acc_number\u001b[0m \u001b[0;32mnot\u001b[0m \u001b[0;32min\u001b[0m \u001b[0maccount_numbers\u001b[0m\u001b[0;34m:\u001b[0m\u001b[0;34m\u001b[0m\u001b[0;34m\u001b[0m\u001b[0m\n\u001b[0m\u001b[1;32m      6\u001b[0m   \u001b[0mprint\u001b[0m\u001b[0;34m(\u001b[0m\u001b[0;34mf'Account numebr {new_acc_number} is not in use'\u001b[0m\u001b[0;34m)\u001b[0m\u001b[0;34m\u001b[0m\u001b[0;34m\u001b[0m\u001b[0m\n",
            "\u001b[0;31mNameError\u001b[0m: name 'new_acc_number' is not defined"
          ]
        }
      ]
    },
    {
      "cell_type": "markdown",
      "source": [
        "# **Control logic & loops**"
      ],
      "metadata": {
        "id": "pMae9nK54FHQ"
      }
    },
    {
      "cell_type": "code",
      "source": [],
      "metadata": {
        "id": "mcDsOWRt4MeN"
      },
      "execution_count": null,
      "outputs": []
    }
  ]
}