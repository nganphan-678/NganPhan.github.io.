{
  "nbformat": 4,
  "nbformat_minor": 0,
  "metadata": {
    "colab": {
      "provenance": [],
      "authorship_tag": "ABX9TyOD20WSvy2Z1NQk96aL8UHe",
      "include_colab_link": true
    },
    "kernelspec": {
      "name": "python3",
      "display_name": "Python 3"
    },
    "language_info": {
      "name": "python"
    }
  },
  "cells": [
    {
      "cell_type": "markdown",
      "metadata": {
        "id": "view-in-github",
        "colab_type": "text"
      },
      "source": [
        "<a href=\"https://colab.research.google.com/github/nganphan-678/NganPhan.github.io./blob/main/Untitled0.ipynb\" target=\"_parent\"><img src=\"https://colab.research.google.com/assets/colab-badge.svg\" alt=\"Open In Colab\"/></a>"
      ]
    },
    {
      "cell_type": "code",
      "execution_count": 1,
      "metadata": {
        "colab": {
          "base_uri": "https://localhost:8080/",
          "height": 106
        },
        "id": "OHirA54Fn-bB",
        "outputId": "b56dd698-ccb9-4015-e855-9ad12e7d0198"
      },
      "outputs": [
        {
          "output_type": "error",
          "ename": "SyntaxError",
          "evalue": "invalid syntax. Perhaps you forgot a comma? (ipython-input-3636707300.py, line 1)",
          "traceback": [
            "\u001b[0;36m  File \u001b[0;32m\"/tmp/ipython-input-3636707300.py\"\u001b[0;36m, line \u001b[0;32m1\u001b[0m\n\u001b[0;31m    print (''Hello World'')\u001b[0m\n\u001b[0m           ^\u001b[0m\n\u001b[0;31mSyntaxError\u001b[0m\u001b[0;31m:\u001b[0m invalid syntax. Perhaps you forgot a comma?\n"
          ]
        }
      ],
      "source": [
        "print (''Hello World'')"
      ]
    },
    {
      "cell_type": "code",
      "source": [],
      "metadata": {
        "id": "yPobvQ3BoJfs"
      },
      "execution_count": null,
      "outputs": []
    },
    {
      "cell_type": "code",
      "source": [
        "score = 80\n",
        "if score >= 60\n",
        "    print (\"Pass\")"
      ],
      "metadata": {
        "colab": {
          "base_uri": "https://localhost:8080/",
          "height": 106
        },
        "id": "wr_S_TqLoUeM",
        "outputId": "dcd947a6-cd0c-4f58-a136-30a8ce4e8b5e"
      },
      "execution_count": 2,
      "outputs": [
        {
          "output_type": "error",
          "ename": "SyntaxError",
          "evalue": "expected ':' (ipython-input-4121688620.py, line 2)",
          "traceback": [
            "\u001b[0;36m  File \u001b[0;32m\"/tmp/ipython-input-4121688620.py\"\u001b[0;36m, line \u001b[0;32m2\u001b[0m\n\u001b[0;31m    if score >= 60\u001b[0m\n\u001b[0m                  ^\u001b[0m\n\u001b[0;31mSyntaxError\u001b[0m\u001b[0;31m:\u001b[0m expected ':'\n"
          ]
        }
      ]
    },
    {
      "cell_type": "code",
      "source": [
        "score = 80\n",
        "if score >=60 :\n",
        "   print (\"Pass\")"
      ],
      "metadata": {
        "colab": {
          "base_uri": "https://localhost:8080/"
        },
        "id": "MPa4QNO1or0e",
        "outputId": "c21006fe-2d22-47d9-d0bd-3f703069596a"
      },
      "execution_count": 3,
      "outputs": [
        {
          "output_type": "stream",
          "name": "stdout",
          "text": [
            "Pass\n"
          ]
        }
      ]
    },
    {
      "cell_type": "code",
      "source": [
        "#Python Variable\n",
        "x = 2\n",
        "price = 2.5\n",
        "word = 'Hello'\n",
        "\n",
        "word = 'Hello'\n",
        "word = \"Hello\"\n",
        "word = '''Hello'''\n",
        "print(x, price, word)\n",
        "print(f'x = {x, type(x)}, price={price, type(price)}, word={word, type(word)}')"
      ],
      "metadata": {
        "colab": {
          "base_uri": "https://localhost:8080/"
        },
        "id": "rlMPLQoyo59q",
        "outputId": "4fb5e132-26b8-4aa7-f440-8c60871f6471"
      },
      "execution_count": 4,
      "outputs": [
        {
          "output_type": "stream",
          "name": "stdout",
          "text": [
            "2 2.5 Hello\n",
            "x = (2, <class 'int'>), price=(2.5, <class 'float'>), word=('Hello', <class 'str'>)\n"
          ]
        }
      ]
    },
    {
      "cell_type": "code",
      "source": [
        "x = 'Hello, Word'\n",
        "print(x, type(x))\n",
        "\n",
        "x = 2\n",
        "print (x, type(x))\n",
        "\n",
        "x = 2.5\n",
        "print (x, type(x))\n",
        "\n",
        "x = 7j\n",
        "print (x, type(x))"
      ],
      "metadata": {
        "colab": {
          "base_uri": "https://localhost:8080/"
        },
        "id": "cm5K8aJ0qcKo",
        "outputId": "75de7f4e-9499-4288-df04-503d4d544e29"
      },
      "execution_count": 5,
      "outputs": [
        {
          "output_type": "stream",
          "name": "stdout",
          "text": [
            "Hello, Word <class 'str'>\n",
            "2 <class 'int'>\n",
            "2.5 <class 'float'>\n",
            "7j <class 'complex'>\n"
          ]
        }
      ]
    },
    {
      "cell_type": "code",
      "source": [
        "x = ['apple', 'banana', 'cherry']\n",
        "x.append('hello')\n",
        "print (x, type(x), x [1:3])\n",
        "\n",
        "x = ['apple', 'banana', 'cherry', 'hello']\n",
        "# x.append('hello')\n",
        "x = ('apple', 'banana', 'cherry', 'hello')\n",
        "print(x, type(x), x[1:3])\n",
        "\n",
        "x = {'name': 'Tome', 'age': 20}  # dictionary\n",
        "print(x, type(x), x['name'], x['age'])\n",
        "\n",
        "x={'apple', 'banana', 'cherry'} # set\n",
        "x.add('hello')\n",
        "print(x, type(x))"
      ],
      "metadata": {
        "colab": {
          "base_uri": "https://localhost:8080/"
        },
        "id": "09ugP1ftrUP0",
        "outputId": "12bcb2f9-67b2-46af-f1d4-9cd5ddb0ffd9"
      },
      "execution_count": 9,
      "outputs": [
        {
          "output_type": "stream",
          "name": "stdout",
          "text": [
            "['apple', 'banana', 'cherry', 'hello'] <class 'list'> ['banana', 'cherry']\n",
            "('apple', 'banana', 'cherry', 'hello') <class 'tuple'> ('banana', 'cherry')\n",
            "{'name': 'Tome', 'age': 20} <class 'dict'> Tome 20\n",
            "{'apple', 'banana', 'cherry', 'hello'} <class 'set'>\n"
          ]
        }
      ]
    },
    {
      "cell_type": "code",
      "source": [
        "x = True\n",
        "print(x, type(x))\n",
        "\n",
        "x = b'Hello'  #bytes\n",
        "print(x, type(x))\n",
        "\n",
        "x = bytearray(5)  #bytearray\n",
        "print(x, type(x))\n",
        "\n",
        "x = memoryview(bytes(5))  #memoryview\n",
        "print(x, type(x))"
      ],
      "metadata": {
        "colab": {
          "base_uri": "https://localhost:8080/"
        },
        "id": "7A99Z8UMuSE6",
        "outputId": "ed3c2e62-617e-40d0-f7b7-8a4db0ca9426"
      },
      "execution_count": 10,
      "outputs": [
        {
          "output_type": "stream",
          "name": "stdout",
          "text": [
            "True <class 'bool'>\n",
            "b'Hello' <class 'bytes'>\n",
            "bytearray(b'\\x00\\x00\\x00\\x00\\x00') <class 'bytearray'>\n",
            "<memory at 0x78891ab41cc0> <class 'memoryview'>\n"
          ]
        }
      ]
    },
    {
      "cell_type": "code",
      "source": [
        "#bmi\n",
        "#input\n",
        "height_cm = 163\n",
        "weight_kg = 47\n",
        "\n",
        "#process\n",
        "height_m = height_cm / 100\n",
        "bmi = (weight_kg / (height_m ** 2))\n",
        "print('Your BMI is ', round(bmi, 2))"
      ],
      "metadata": {
        "colab": {
          "base_uri": "https://localhost:8080/"
        },
        "id": "fD1kIZtRvJBJ",
        "outputId": "c20814e5-5d6b-40ce-c0d4-ba03ce35e2ab"
      },
      "execution_count": 12,
      "outputs": [
        {
          "output_type": "stream",
          "name": "stdout",
          "text": [
            "Your BMI is  17.69\n"
          ]
        }
      ]
    },
    {
      "cell_type": "code",
      "source": [
        "#input\n",
        "pv = 100\n",
        "r = 0.1\n",
        "n = 7\n",
        "\n",
        "#process\n",
        "fv = pv* ((1 + r)**n)\n",
        "print('fv = ', round(fv, 2))"
      ],
      "metadata": {
        "colab": {
          "base_uri": "https://localhost:8080/"
        },
        "id": "7MuyH6d6v7WJ",
        "outputId": "4f7f13d6-eab3-4617-b959-a9b128155b6f"
      },
      "execution_count": 13,
      "outputs": [
        {
          "output_type": "stream",
          "name": "stdout",
          "text": [
            "fv =  194.87\n"
          ]
        }
      ]
    },
    {
      "cell_type": "code",
      "source": [
        "#input\n",
        "amount = 100\n",
        "interest = 10 # 10%\n",
        "years = 7\n",
        "\n",
        "#process\n",
        "future_value = amount * ( (1 + interest / 100.0) ** years)\n",
        "print('future_value = ', round(future_value, 2))"
      ],
      "metadata": {
        "colab": {
          "base_uri": "https://localhost:8080/"
        },
        "id": "UenoNBwAwiYD",
        "outputId": "c2b5cd38-bd1b-4ffe-89b8-3d690784e1d5"
      },
      "execution_count": 15,
      "outputs": [
        {
          "output_type": "stream",
          "name": "stdout",
          "text": [
            "future_value =  194.87\n"
          ]
        }
      ]
    }
  ]
}